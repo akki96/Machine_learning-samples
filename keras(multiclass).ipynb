{
  "nbformat": 4,
  "nbformat_minor": 0,
  "metadata": {
    "colab": {
      "name": "multiclass-keras.ipynb",
      "provenance": [],
      "authorship_tag": "ABX9TyNvHGU5roKns2eMe4RrUSY3",
      "include_colab_link": true
    },
    "kernelspec": {
      "name": "python3",
      "display_name": "Python 3"
    }
  },
  "cells": [
    {
      "cell_type": "markdown",
      "metadata": {
        "id": "view-in-github",
        "colab_type": "text"
      },
      "source": [
        "<a href=\"https://colab.research.google.com/github/akki96/Machine_learning-samples/blob/master/keras(multiclass).ipynb\" target=\"_parent\"><img src=\"https://colab.research.google.com/assets/colab-badge.svg\" alt=\"Open In Colab\"/></a>"
      ]
    },
    {
      "cell_type": "code",
      "metadata": {
        "id": "lC1UaXwt2yG0",
        "colab_type": "code",
        "colab": {}
      },
      "source": [
        "import numpy as np\n",
        "import tensorflow as tf\n",
        "from tensorflow.keras.models import Sequential\n",
        "from tensorflow.keras.layers import Dense, Activation, Dropout, Flatten \n",
        "from tensorflow.keras.optimizers import Adam\n",
        "import tensorflow_datasets as tfds"
      ],
      "execution_count": 0,
      "outputs": []
    },
    {
      "cell_type": "code",
      "metadata": {
        "id": "qkZ11lDG3sXx",
        "colab_type": "code",
        "colab": {}
      },
      "source": [
        "(x_train, y_train), (x_test, y_test) = tf.keras.datasets.fashion_mnist.load_data()"
      ],
      "execution_count": 0,
      "outputs": []
    },
    {
      "cell_type": "code",
      "metadata": {
        "id": "T56i_QYz39z2",
        "colab_type": "code",
        "colab": {
          "base_uri": "https://localhost:8080/",
          "height": 51
        },
        "outputId": "f9e7cf82-9d1d-40aa-f2a2-051b1893521a"
      },
      "source": [
        "print(y_train.shape)\n",
        "print(y_test.shape)"
      ],
      "execution_count": 16,
      "outputs": [
        {
          "output_type": "stream",
          "text": [
            "(60000,)\n",
            "(10000,)\n"
          ],
          "name": "stdout"
        }
      ]
    },
    {
      "cell_type": "code",
      "metadata": {
        "id": "LMvX86D488GQ",
        "colab_type": "code",
        "colab": {
          "base_uri": "https://localhost:8080/",
          "height": 281
        },
        "outputId": "51f01055-1077-48ff-e887-9fb6a09b5920"
      },
      "source": [
        "import matplotlib.pyplot as plt\n",
        "\n",
        "image_index = 350\n",
        "print(y_train[image_index])\n",
        "plt.imshow(x_train[image_index], cmap='Greys')\n",
        "plt.show()"
      ],
      "execution_count": 17,
      "outputs": [
        {
          "output_type": "stream",
          "text": [
            "2\n"
          ],
          "name": "stdout"
        },
        {
          "output_type": "display_data",
          "data": {
            "image/png": "[encoded data removed]",
            "text/plain": [
              "<Figure size 432x288 with 1 Axes>"
            ]
          },
          "metadata": {
            "tags": [],
            "needs_background": "light"
          }
        }
      ]
    },
    {
      "cell_type": "code",
      "metadata": {
        "id": "vcpt9nfJ933p",
        "colab_type": "code",
        "colab": {
          "base_uri": "https://localhost:8080/",
          "height": 324
        },
        "outputId": "7a52f156-df8d-4da1-8fdd-6c6b718591c5"
      },
      "source": [
        "model = Sequential([\n",
        "                    Flatten(input_shape=(28, 28)),\n",
        "                    Dense(2048, activation='relu'),\n",
        "                    Dense(1024, activation='relu'),\n",
        "                    Dense(1024, activation='relu'),\n",
        "                    Dense(10, activation='softmax')\n",
        "])\n",
        "model.summary()"
      ],
      "execution_count": 19,
      "outputs": [
        {
          "output_type": "stream",
          "text": [
            "Model: \"sequential_2\"\n",
            "_________________________________________________________________\n",
            "Layer (type)                 Output Shape              Param #   \n",
            "=================================================================\n",
            "flatten_3 (Flatten)          (None, 784)               0         \n",
            "_________________________________________________________________\n",
            "dense_10 (Dense)             (None, 2048)              1607680   \n",
            "_________________________________________________________________\n",
            "dense_11 (Dense)             (None, 1024)              2098176   \n",
            "_________________________________________________________________\n",
            "dense_12 (Dense)             (None, 1024)              1049600   \n",
            "_________________________________________________________________\n",
            "dense_13 (Dense)             (None, 10)                10250     \n",
            "=================================================================\n",
            "Total params: 4,765,706\n",
            "Trainable params: 4,765,706\n",
            "Non-trainable params: 0\n",
            "_________________________________________________________________\n"
          ],
          "name": "stdout"
        }
      ]
    },
    {
      "cell_type": "code",
      "metadata": {
        "id": "GfZ3XNy4E2xB",
        "colab_type": "code",
        "colab": {}
      },
      "source": [
        "model.compile(optimizer='adam',\n",
        "              loss='sparse_categorical_crossentropy',\n",
        "              metrics=['accuracy'])"
      ],
      "execution_count": 0,
      "outputs": []
    },
    {
      "cell_type": "code",
      "metadata": {
        "id": "ATDm4SxfFIm3",
        "colab_type": "code",
        "colab": {
          "base_uri": "https://localhost:8080/",
          "height": 102
        },
        "outputId": "4f83f9de-5196-4896-ccd5-7b1ef8a55f5e"
      },
      "source": [
        "history=model.fit(x_train, y_train,\n",
        "                  epochs =2, cerbose=2)\n",
        "print(history.epoch, history.history['accuracy'][-1])"
      ],
      "execution_count": 22,
      "outputs": [
        {
          "output_type": "stream",
          "text": [
            "Epoch 1/2\n",
            "1875/1875 [==============================] - 80s 43ms/step - loss: 2.2146 - accuracy: 0.7933\n",
            "Epoch 2/2\n",
            "1875/1875 [==============================] - 79s 42ms/step - loss: 0.4653 - accuracy: 0.8349\n",
            "[0, 1] 0.8349499702453613\n"
          ],
          "name": "stdout"
        }
      ]
    }
  ]
}