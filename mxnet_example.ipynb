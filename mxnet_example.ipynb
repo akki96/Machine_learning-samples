{
  "nbformat": 4,
  "nbformat_minor": 0,
  "metadata": {
    "kernelspec": {
      "display_name": "Python 3",
      "language": "python",
      "name": "python3"
    },
    "language_info": {
      "codemirror_mode": {
        "name": "ipython",
        "version": 3
      },
      "file_extension": ".py",
      "mimetype": "text/x-python",
      "name": "python",
      "nbconvert_exporter": "python",
      "pygments_lexer": "ipython3",
      "version": "3.7.6"
    },
    "colab": {
      "name": "mxnet example.ipynb",
      "provenance": [],
      "include_colab_link": true
    }
  },
  "cells": [
    {
      "cell_type": "markdown",
      "metadata": {
        "id": "view-in-github",
        "colab_type": "text"
      },
      "source": [
        "<a href=\"https://colab.research.google.com/github/akki96/Machine_learning-samples/blob/master/mxnet_example.ipynb\" target=\"_parent\"><img src=\"https://colab.research.google.com/assets/colab-badge.svg\" alt=\"Open In Colab\"/></a>"
      ]
    },
    {
      "cell_type": "code",
      "metadata": {
        "id": "J4eov3I-VKmv",
        "colab_type": "code",
        "outputId": "ca4f7ae2-8e13-40c5-9edb-bf304a9ee1f4",
        "colab": {
          "base_uri": "https://localhost:8080/",
          "height": 153
        }
      },
      "source": [
        "!pip install mxnet"
      ],
      "execution_count": 0,
      "outputs": [
        {
          "output_type": "stream",
          "text": [
            "Requirement already satisfied: mxnet in /usr/local/lib/python3.6/dist-packages (1.6.0)\n",
            "Requirement already satisfied: graphviz<0.9.0,>=0.8.1 in /usr/local/lib/python3.6/dist-packages (from mxnet) (0.8.4)\n",
            "Requirement already satisfied: numpy<2.0.0,>1.16.0 in /usr/local/lib/python3.6/dist-packages (from mxnet) (1.18.4)\n",
            "Requirement already satisfied: requests<3,>=2.20.0 in /usr/local/lib/python3.6/dist-packages (from mxnet) (2.23.0)\n",
            "Requirement already satisfied: chardet<4,>=3.0.2 in /usr/local/lib/python3.6/dist-packages (from requests<3,>=2.20.0->mxnet) (3.0.4)\n",
            "Requirement already satisfied: idna<3,>=2.5 in /usr/local/lib/python3.6/dist-packages (from requests<3,>=2.20.0->mxnet) (2.9)\n",
            "Requirement already satisfied: urllib3!=1.25.0,!=1.25.1,<1.26,>=1.21.1 in /usr/local/lib/python3.6/dist-packages (from requests<3,>=2.20.0->mxnet) (1.24.3)\n",
            "Requirement already satisfied: certifi>=2017.4.17 in /usr/local/lib/python3.6/dist-packages (from requests<3,>=2.20.0->mxnet) (2020.4.5.1)\n"
          ],
          "name": "stdout"
        }
      ]
    },
    {
      "cell_type": "code",
      "metadata": {
        "id": "-Vgtgaz1V2Gq",
        "colab_type": "code",
        "colab": {}
      },
      "source": [
        "from __future__ import print_function\n",
        "import mxnet as mx\n",
        "from mxnet import gluon\n",
        "from mxnet.gluon import nn\n",
        "from mxnet import autograd as ag"
      ],
      "execution_count": 0,
      "outputs": []
    },
    {
      "cell_type": "code",
      "metadata": {
        "id": "Qg7s_aoQU-9R",
        "colab_type": "code",
        "colab": {}
      },
      "source": [
        "import mxnet as mx\n",
        "# fixing the random seed\n",
        "mx.random.seed(42)\n",
        "mnist = mx.test_utils.get_mnist()"
      ],
      "execution_count": 0,
      "outputs": []
    },
    {
      "cell_type": "code",
      "metadata": {
        "id": "qV8bsg04U-9X",
        "colab_type": "code",
        "colab": {}
      },
      "source": [
        "batch_size = 100\n",
        "train_data = mx.io.NDArrayIter(mnist['train_data'], mnist['train_label'], batch_size, shuffle=True)\n",
        "val_data = mx.io.NDArrayIter(mnist['test_data'], mnist['test_label'], batch_size)"
      ],
      "execution_count": 0,
      "outputs": []
    },
    {
      "cell_type": "code",
      "metadata": {
        "id": "ocItztZ6U-9b",
        "colab_type": "code",
        "colab": {}
      },
      "source": [
        "import mxnet.ndarray as F\n",
        "\n",
        "class Net(gluon.Block):\n",
        "    def __init__(self, **kwargs):\n",
        "        super(Net, self).__init__(**kwargs)\n",
        "        with self.name_scope():\n",
        "            # layers created in name_scope will inherit name space\n",
        "            # from parent layer.\n",
        "            self.conv1 = nn.Conv2D(20, kernel_size=(5,5))\n",
        "            self.pool1 = nn.MaxPool2D(pool_size=(2,2), strides = (2,2))\n",
        "            self.conv2 = nn.Conv2D(50, kernel_size=(5,5))\n",
        "            self.pool2 = nn.MaxPool2D(pool_size=(2,2), strides = (2,2))\n",
        "            self.fc1 = nn.Dense(500)\n",
        "            self.fc2 = nn.Dense(10)\n",
        "\n",
        "    def forward(self, x):\n",
        "        x = self.pool1(F.tanh(self.conv1(x)))\n",
        "        x = self.pool2(F.tanh(self.conv2(x)))\n",
        "        # 0 means copy over size from corresponding dimension.\n",
        "        # -1 means infer size from the rest of dimensions.\n",
        "        x = x.reshape((0, -1))\n",
        "        x = F.tanh(self.fc1(x))\n",
        "        x = F.tanh(self.fc2(x))\n",
        "        return x"
      ],
      "execution_count": 0,
      "outputs": []
    },
    {
      "cell_type": "code",
      "metadata": {
        "id": "_ZO6Gf1-U-9f",
        "colab_type": "code",
        "colab": {}
      },
      "source": [
        "net = Net()"
      ],
      "execution_count": 0,
      "outputs": []
    },
    {
      "cell_type": "code",
      "metadata": {
        "id": "HnrHm95uU-9i",
        "colab_type": "code",
        "colab": {}
      },
      "source": [
        "ctx = [mx.gpu() if mx.test_utils.list_gpus() else mx.cpu()]\n",
        "net.initialize(mx.init.Xavier(magnitude=2.24), ctx=ctx)\n",
        "trainer = gluon.Trainer(net.collect_params(), 'sgd', {'learning_rate': 0.03})"
      ],
      "execution_count": 0,
      "outputs": []
    },
    {
      "cell_type": "code",
      "metadata": {
        "id": "DZf-ufCxU-9m",
        "colab_type": "code",
        "outputId": "9959ea43-dbcb-46cd-83ae-7c781f2fc8eb",
        "colab": {
          "base_uri": "https://localhost:8080/",
          "height": 187
        }
      },
      "source": [
        "# Use Accuracy as the evaluation metric.\n",
        "metric = mx.metric.Accuracy()\n",
        "softmax_cross_entropy_loss = gluon.loss.SoftmaxCrossEntropyLoss()\n",
        "\n",
        "for i in range(10):\n",
        "    # Reset the train data iterator.\n",
        "    train_data.reset()\n",
        "    # Loop over the train data iterator.\n",
        "    for batch in train_data:\n",
        "        # Splits train data into multiple slices along batch_axis\n",
        "        # and copy each slice into a context.\n",
        "        data = gluon.utils.split_and_load(batch.data[0], ctx_list=ctx, batch_axis=0)\n",
        "        # Splits train labels into multiple slices along batch_axis\n",
        "        # and copy each slice into a context.\n",
        "        label = gluon.utils.split_and_load(batch.label[0], ctx_list=ctx, batch_axis=0)\n",
        "        outputs = []\n",
        "        # Inside training scope\n",
        "        with ag.record():\n",
        "            for x, y in zip(data, label):\n",
        "                z = net(x)\n",
        "                # Computes softmax cross entropy loss.\n",
        "                loss = softmax_cross_entropy_loss(z, y)\n",
        "                # Backpropogate the error for one iteration.\n",
        "                loss.backward()\n",
        "                outputs.append(z)\n",
        "        # Updates internal evaluation\n",
        "        metric.update(label, outputs)\n",
        "        # Make one step of parameter update. Trainer needs to know the\n",
        "        # batch size of data to normalize the gradient by 1/batch_size.\n",
        "        trainer.step(batch.data[0].shape[0])\n",
        "    # Gets the evaluation result.\n",
        "    name, acc = metric.get()\n",
        "    # Reset evaluation result to initial state.\n",
        "    metric.reset()\n",
        "    print('training acc at epoch %d: %s=%f'%(i, name, acc))"
      ],
      "execution_count": 0,
      "outputs": [
        {
          "output_type": "stream",
          "text": [
            "training acc at epoch 0: accuracy=0.867667\n",
            "training acc at epoch 1: accuracy=0.942400\n",
            "training acc at epoch 2: accuracy=0.957450\n",
            "training acc at epoch 3: accuracy=0.965133\n",
            "training acc at epoch 4: accuracy=0.969667\n",
            "training acc at epoch 5: accuracy=0.973017\n",
            "training acc at epoch 6: accuracy=0.975283\n",
            "training acc at epoch 7: accuracy=0.977633\n",
            "training acc at epoch 8: accuracy=0.979317\n",
            "training acc at epoch 9: accuracy=0.980033\n"
          ],
          "name": "stdout"
        }
      ]
    },
    {
      "cell_type": "code",
      "metadata": {
        "id": "uz0W39H0U-9q",
        "colab_type": "code",
        "outputId": "c5c9965d-d6ab-4d8e-9e82-c874ccee0f08",
        "colab": {
          "base_uri": "https://localhost:8080/",
          "height": 34
        }
      },
      "source": [
        "# Use Accuracy as the evaluation metric.\n",
        "metric = mx.metric.Accuracy()\n",
        "# Reset the validation data iterator.\n",
        "val_data.reset()\n",
        "# Loop over the validation data iterator.\n",
        "for batch in val_data:\n",
        "    # Splits validation data into multiple slices along batch_axis\n",
        "    # and copy each slice into a context.\n",
        "    data = gluon.utils.split_and_load(batch.data[0], ctx_list=ctx, batch_axis=0)\n",
        "    # Splits validation label into multiple slices along batch_axis\n",
        "    # and copy each slice into a context.\n",
        "    label = gluon.utils.split_and_load(batch.label[0], ctx_list=ctx, batch_axis=0)\n",
        "    outputs = []\n",
        "    for x in data:\n",
        "        outputs.append(net(x))\n",
        "    # Updates internal evaluation\n",
        "    metric.update(label, outputs)\n",
        "print('validation acc: %s=%f'%metric.get())\n",
        "assert metric.get()[1] > 0.98"
      ],
      "execution_count": 0,
      "outputs": [
        {
          "output_type": "stream",
          "text": [
            "validation acc: accuracy=0.983100\n"
          ],
          "name": "stdout"
        }
      ]
    }
  ]
}